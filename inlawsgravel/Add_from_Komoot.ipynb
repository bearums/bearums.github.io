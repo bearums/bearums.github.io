{
 "cells": [
  {
   "cell_type": "code",
   "execution_count": 1,
   "id": "d94c5b3a-0c48-4879-bc25-d722149f7a77",
   "metadata": {},
   "outputs": [],
   "source": [
    "import pandas as pd\n",
    "import numpy as np\n",
    "from jinja2 import Template\n",
    "import os, glob\n",
    "\n",
    "from kompy import KomootConnector, Authentication\n",
    "password = 'motorcyclE1'\n",
    "email= \"benhastings17+k@gmail.com\"\n",
    "connector = KomootConnector(password=password, email=email)\n",
    "authenticator = Authentication(password=password, email_address=email)\n",
    "\n",
    "\n",
    "def download_tour(komoot_url, authenticator=authenticator):\n",
    "    tour_id = komoot_url.split('/tour/')[1].split('?ref')[0]\n",
    "    tour = connector.get_tour_by_id(tour_identifier=tour_id)\n",
    "    tour.generate_gpx_track(authenticator)\n",
    "    return tour\n",
    "    \n",
    "\n",
    "def add_komoot_url_to_collection(komoot_url):\n",
    "    tour = download_tour(komoot_url)\n",
    "\n",
    "    # find name of new gpx\n",
    "    gpxs = sorted(glob.glob('gpxs/*.gpx'))\n",
    "    last_int = int(os.path.splitext(os.path.basename(gpxs[-1]))[0])\n",
    "    i = last_int + 1\n",
    "    \n",
    "    d=({'i':str(i).zfill(3), \n",
    "       'name': tour.name.replace(\" \", \"\").replace(\".\", \"_\"),\n",
    "       'distance': int(tour.distance/1000), \n",
    "       'elevation': int(tour.elevation_up),\n",
    "      'url': \"https://rdspt.com/inlawsgravel/gpxs/%s.gpx\"%str(i).zfill(3)})\n",
    "\n",
    "    #save gpx file\n",
    "    gpx = tour.gpx_track\n",
    "    with open(\"gpxs/%s.gpx\"%d['i'], \"w\") as f:\n",
    "        f.write( gpx.to_xml())\n",
    "        \n",
    "    #add file info to csv\n",
    "    df_newrow = pd.DataFrame(d, index=[i])\n",
    "    df_newrow.to_csv('gpxs/info.csv', mode='a', header=False, index=False)"
   ]
  },
  {
   "cell_type": "code",
   "execution_count": 3,
   "id": "b8b0c541-c877-4610-b68c-84f2c7a1c3fd",
   "metadata": {},
   "outputs": [],
   "source": [
    "komoot_urls = [\"https://www.komoot.com/tour/2338440718\"\n",
    "               \n",
    "\n",
    "              ]\n",
    "for k in komoot_urls:\n",
    "    add_komoot_url_to_collection(k)"
   ]
  },
  {
   "cell_type": "code",
   "execution_count": null,
   "id": "b10ab2a1-a29c-4d31-8a54-58cb754f3475",
   "metadata": {},
   "outputs": [],
   "source": []
  }
 ],
 "metadata": {
  "kernelspec": {
   "display_name": "Python 3 (ipykernel)",
   "language": "python",
   "name": "python3"
  },
  "language_info": {
   "codemirror_mode": {
    "name": "ipython",
    "version": 3
   },
   "file_extension": ".py",
   "mimetype": "text/x-python",
   "name": "python",
   "nbconvert_exporter": "python",
   "pygments_lexer": "ipython3",
   "version": "3.11.9"
  }
 },
 "nbformat": 4,
 "nbformat_minor": 5
}
