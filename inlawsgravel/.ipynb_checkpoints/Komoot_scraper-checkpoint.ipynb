{
 "cells": [
  {
   "cell_type": "code",
   "execution_count": 1,
   "id": "3b81ffe5-6d0b-43ef-9671-e32f24f52939",
   "metadata": {},
   "outputs": [],
   "source": [
    "import pandas as pd\n",
    "import numpy as np\n",
    "from jinja2 import Template\n",
    "\n",
    "from kompy import KomootConnector, Authentication\n",
    "password = 'motorcyclE1'\n",
    "email= \"benhastings17+k@gmail.com\"\n",
    "connector = KomootConnector(password=password, email=email)\n",
    "authenticator = Authentication(password=password, email_address=email)\n",
    "\n",
    "\n",
    "def save_gpx(tour,name, authenticator=authenticator):\n",
    "    tour.generate_gpx_track(authenticator)\n",
    "    gpx = tour.gpx_track\n",
    "    with open(\"%s.gpx\"%name, \"w\") as f:\n",
    "        f.write( gpx.to_xml())\n"
   ]
  },
  {
   "cell_type": "code",
   "execution_count": 2,
   "id": "e5075958-a680-4dbc-80ae-d89cf601565a",
   "metadata": {},
   "outputs": [
    {
     "name": "stderr",
     "output_type": "stream",
     "text": [
      "2025-04-04 10:01:47,302 - KomootConnector - WARNING - No sort field provided, using default sort field: date\n",
      "2025-04-04 10:01:47,302 No sort field provided, using default sort field: date\n",
      "2025-04-04 10:01:49,004 No vector map image found.\n",
      "2025-04-04 10:01:49,008 No vector map image found.\n",
      "2025-04-04 10:01:49,010 No vector map image found.\n",
      "2025-04-04 10:01:49,012 No vector map image found.\n",
      "2025-04-04 10:01:49,015 No vector map image found.\n",
      "2025-04-04 10:01:49,017 No vector map image found.\n",
      "2025-04-04 10:01:49,018 No vector map image found.\n",
      "2025-04-04 10:01:49,019 No vector map image found.\n",
      "2025-04-04 10:01:49,021 No vector map image found.\n",
      "2025-04-04 10:01:49,023 No vector map image found.\n",
      "2025-04-04 10:01:49,025 No vector map image found.\n",
      "2025-04-04 10:01:49,026 No vector map image found.\n",
      "2025-04-04 10:01:49,028 - KomootConnector - WARNING - No sort field provided, using default sort field: date\n",
      "2025-04-04 10:01:49,028 No sort field provided, using default sort field: date\n",
      "2025-04-04 10:01:55,676 No vector map image found.\n",
      "2025-04-04 10:01:55,697 - KomootConnector - WARNING - No sort field provided, using default sort field: date\n",
      "2025-04-04 10:01:55,697 No sort field provided, using default sort field: date\n"
     ]
    }
   ],
   "source": [
    "tours_jakob = connector.get_tours(user_identifier=821940318960) # Jakob\n",
    "\n",
    "tours_golo = connector.get_tours(user_identifier=1050872801851) # Golo\n",
    "tours_inlaws = connector.get_tours(user_identifier=4690050905910) # inlaws\n",
    "tours_list = tours_jakob+ tours_golo + tours_inlaws"
   ]
  },
  {
   "cell_type": "code",
   "execution_count": 3,
   "id": "a1305138-1304-4348-9d2d-588467f8128e",
   "metadata": {},
   "outputs": [
    {
     "data": {
      "text/plain": [
       "['Inlaws Sonntagsgravel: Tour Divide lol',\n",
       " 'Inlaws Gravel 09.03. Sieg, Agger Wald, Wahner Heide, Rotter See',\n",
       " 'Inlaws Gravel 23.02.',\n",
       " 'Inlaws Gravel 19.01.',\n",
       " 'Inlaws Gravel 11.01.2025',\n",
       " 'Inlaws Gravel 3. Advent',\n",
       " 'Inlaws Gravel 08.09.',\n",
       " 'Inlaws Gravel 7g + Sieg',\n",
       " 'Inlaws Gravel 25.08.',\n",
       " 'Inlaws Gravel 04.08.',\n",
       " 'Inlaws Gravilla 28.08.',\n",
       " 'Inlaws Gravel 14.07.',\n",
       " 'Inlaws Gravel 06.07.',\n",
       " 'Inlaws Gravel 30.06.',\n",
       " 'Inlaws Gravel 26.05.?',\n",
       " 'Inlaws Gravel 13.05.',\n",
       " 'Inlaws Gravel 05.05.',\n",
       " 'Inlaws Gravel 21.02.?',\n",
       " '10.12. Gravel Inlaws',\n",
       " 'Inlaws Sonntagsgravel: Tour Divide lol',\n",
       " 'Inlaws Sonntagsgravel 16.3.25',\n",
       " '16.03.25 Inlaws Koffiehell',\n",
       " 'Inlaws Gravel 09.03. Sieg, Agger Wald, Wahner Heide, Rotter See',\n",
       " 'Inlawsgravel 26.1.25',\n",
       " 'Inlaws Gravel 19.01.25',\n",
       " 'Inlaws Gravel 11.01.2025',\n",
       " 'Inlaws Gravel 3. Advent',\n",
       " 'Inlaws Gravel 25.08. (One for the books)',\n",
       " 'Inlaws Gravel 04.08.',\n",
       " 'Inlaws Gravel 28.08.',\n",
       " 'Inlaws Gravel 30.06.',\n",
       " 'Inlaws Gravel 26.05.?',\n",
       " 'Inlawsgravel 19.5. Borkeshof Paßmann',\n",
       " 'Inlaws Gravel 05.05.',\n",
       " '10.12. Gravel Inlaws',\n",
       " 'Stanni Inlawsgravel reverso',\n",
       " 'Inlaws Sonntagsrunde Kottenforst -technical- (Dnns)',\n",
       " 'Inlaws Sonntagsgravel Kottenforst-Waldville-Bonn (Dnns)']"
      ]
     },
     "execution_count": 3,
     "metadata": {},
     "output_type": "execute_result"
    }
   ],
   "source": [
    "filter_func = lambda x:'inlaws' in x.name.lower() and 'road' not in x.name.lower()\n",
    "\n",
    "tt = list(filter(filter_func, tours_list))\n",
    "\n",
    "\n",
    "[x.name for x in tt]\n"
   ]
  },
  {
   "cell_type": "code",
   "execution_count": 4,
   "id": "f5f21a15-4fd3-4a02-8ff9-2a4740467ac5",
   "metadata": {},
   "outputs": [],
   "source": [
    "\n",
    "route_infos=[]\n",
    "i=1\n",
    "for t in tt:\n",
    "   #print(i)\n",
    "   d=({'i':str(i).zfill(3), \n",
    "       'name': t.name.replace(\" \", \"\").replace(\".\", \"_\"),\n",
    "       'distance': int(t.distance/1000), \n",
    "       'elevation': int(t.elevation_up),\n",
    "      'url': \"https://rdspt.com/inlawsgravel/gpxs/%s.gpx\"%str(i).zfill(3)})\n",
    "   \n",
    "   route_infos.append(d)\n",
    "   save_gpx(t, 'gpxs/%s'%(str(i).zfill(3)))\n",
    "   i=i+1"
   ]
  },
  {
   "cell_type": "code",
   "execution_count": 5,
   "id": "e51eb4c8-25d9-4d91-b04a-95e243e84e33",
   "metadata": {},
   "outputs": [],
   "source": [
    "df = pd.DataFrame(route_infos)\n",
    "df.to_csv('gpxs/info.csv', index=False)"
   ]
  },
  {
   "cell_type": "markdown",
   "id": "0fe7578b-775a-48eb-a76c-d4cdc5bf08e4",
   "metadata": {},
   "source": [
    "# Generate html files on website"
   ]
  },
  {
   "cell_type": "code",
   "execution_count": 46,
   "id": "0f1d6378-46fd-4d65-bf91-20861707cb74",
   "metadata": {},
   "outputs": [
    {
     "data": {
      "text/html": [
       "<div>\n",
       "<style scoped>\n",
       "    .dataframe tbody tr th:only-of-type {\n",
       "        vertical-align: middle;\n",
       "    }\n",
       "\n",
       "    .dataframe tbody tr th {\n",
       "        vertical-align: top;\n",
       "    }\n",
       "\n",
       "    .dataframe thead th {\n",
       "        text-align: right;\n",
       "    }\n",
       "</style>\n",
       "<table border=\"1\" class=\"dataframe\">\n",
       "  <thead>\n",
       "    <tr style=\"text-align: right;\">\n",
       "      <th></th>\n",
       "      <th>i</th>\n",
       "      <th>name</th>\n",
       "      <th>distance</th>\n",
       "      <th>elevation</th>\n",
       "    </tr>\n",
       "  </thead>\n",
       "  <tbody>\n",
       "    <tr>\n",
       "      <th>0</th>\n",
       "      <td>001</td>\n",
       "      <td>InlawsSonntagsgravel:TourDividelol</td>\n",
       "      <td>41</td>\n",
       "      <td>663</td>\n",
       "    </tr>\n",
       "    <tr>\n",
       "      <th>1</th>\n",
       "      <td>002</td>\n",
       "      <td>InlawsGravel09_03_Sieg,AggerWald,WahnerHeide,R...</td>\n",
       "      <td>44</td>\n",
       "      <td>235</td>\n",
       "    </tr>\n",
       "    <tr>\n",
       "      <th>2</th>\n",
       "      <td>003</td>\n",
       "      <td>InlawsGravel23_02_</td>\n",
       "      <td>37</td>\n",
       "      <td>386</td>\n",
       "    </tr>\n",
       "    <tr>\n",
       "      <th>3</th>\n",
       "      <td>004</td>\n",
       "      <td>InlawsGravel19_01_</td>\n",
       "      <td>39</td>\n",
       "      <td>206</td>\n",
       "    </tr>\n",
       "    <tr>\n",
       "      <th>4</th>\n",
       "      <td>005</td>\n",
       "      <td>InlawsGravel11_01_2025</td>\n",
       "      <td>34</td>\n",
       "      <td>248</td>\n",
       "    </tr>\n",
       "  </tbody>\n",
       "</table>\n",
       "</div>"
      ],
      "text/plain": [
       "     i                                               name  distance  elevation\n",
       "0  001                 InlawsSonntagsgravel:TourDividelol        41        663\n",
       "1  002  InlawsGravel09_03_Sieg,AggerWald,WahnerHeide,R...        44        235\n",
       "2  003                                 InlawsGravel23_02_        37        386\n",
       "3  004                                 InlawsGravel19_01_        39        206\n",
       "4  005                             InlawsGravel11_01_2025        34        248"
      ]
     },
     "execution_count": 46,
     "metadata": {},
     "output_type": "execute_result"
    }
   ],
   "source": [
    "df = pd.read_csv('gpxs/info.csv', dtype={'i':str})\n",
    "df.head()"
   ]
  },
  {
   "cell_type": "code",
   "execution_count": 59,
   "id": "a49e7033-f86c-470f-82a2-c68815b6309c",
   "metadata": {},
   "outputs": [],
   "source": [
    "\n",
    "template = Template(\"\"\"\n",
    "+++\n",
    "no_footer = true\n",
    "[resources]\n",
    "  src = 'test.css'\n",
    "  title = 'style'\n",
    "+++\n",
    "\n",
    "{{ '{{' }}< bootstrap-table table_class=\"table table-hover\" thead_class=\"table-success\" caption=\"My super caption\" >{{ '}}' }}| # | Name         | Distance     | Elevation   |\n",
    "|---|----------------|----------|----------| {% for row in df_values %}\n",
    "| {{ row[0] }} | [{{ row[1] }}]({{row[0] }})     | {{ row[2] }}     | {{ row[3] }}     |  \n",
    "{%-endfor %}\n",
    "{{ '{{' }}< /bootstrap-table >{{ '}}' }}\n",
    "\"\"\")\n",
    "\n",
    "with open('index.md', 'w') as f:\n",
    "    f.write(template.render(df_values = df.values ))"
   ]
  },
  {
   "cell_type": "code",
   "execution_count": 60,
   "id": "0ff33ea7-a7c6-496f-9247-bbbdbaf070ad",
   "metadata": {},
   "outputs": [],
   "source": [
    "# generate gpx display for individual tracks \n",
    "\n",
    "template = Template(\"\"\"\n",
    "+++\n",
    "no_footer = true\n",
    "[resources]\n",
    "  src = 'test.css'\n",
    "  title = 'style'\n",
    "+++\n",
    "\n",
    "{{ '{{' }}< displayGPX \"https://rdspt.com/inlawsgravel/routes/{{ gpx_file }}.gpx\" \"{{ route_name }}\">{{ '}}' }}\n",
    "\"\"\")\n",
    "\n",
    "for i, row in df.iterrows():\n",
    "    with open('routes/%s.md'%row.i, 'w') as f:\n",
    "         f.write(template.render(gpx_file = row.i , route_name = row.name))"
   ]
  },
  {
   "cell_type": "code",
   "execution_count": 11,
   "id": "0e63b5cf-141a-4358-a76f-d7c93025d16b",
   "metadata": {},
   "outputs": [],
   "source": []
  },
  {
   "cell_type": "code",
   "execution_count": 17,
   "id": "6cd80fd8-4750-40a0-bba5-512fa5bca5e1",
   "metadata": {},
   "outputs": [
    {
     "data": {
      "text/plain": [
       "41.01573111599001"
      ]
     },
     "execution_count": 17,
     "metadata": {},
     "output_type": "execute_result"
    }
   ],
   "source": []
  },
  {
   "cell_type": "code",
   "execution_count": 48,
   "id": "94b87af2-93a9-4405-9148-93c4c04ba71e",
   "metadata": {},
   "outputs": [
    {
     "data": {
      "text/plain": [
       "0     001\n",
       "1     002\n",
       "2     003\n",
       "3     004\n",
       "4     005\n",
       "5     006\n",
       "6     007\n",
       "7     008\n",
       "8     009\n",
       "9     010\n",
       "10    011\n",
       "11    012\n",
       "12    013\n",
       "13    014\n",
       "14    015\n",
       "15    016\n",
       "16    017\n",
       "17    018\n",
       "18    019\n",
       "19    020\n",
       "20    021\n",
       "21    022\n",
       "22    023\n",
       "23    024\n",
       "24    025\n",
       "25    026\n",
       "26    027\n",
       "27    028\n",
       "28    029\n",
       "29    030\n",
       "30    031\n",
       "31    032\n",
       "32    033\n",
       "33    034\n",
       "34    035\n",
       "35    036\n",
       "36    037\n",
       "37    038\n",
       "Name: i, dtype: object"
      ]
     },
     "execution_count": 48,
     "metadata": {},
     "output_type": "execute_result"
    }
   ],
   "source": [
    "df.i"
   ]
  },
  {
   "cell_type": "code",
   "execution_count": null,
   "id": "4c7248fd-6498-4914-bacd-b00000fc86e6",
   "metadata": {},
   "outputs": [],
   "source": []
  }
 ],
 "metadata": {
  "kernelspec": {
   "display_name": "Python 3",
   "language": "python",
   "name": "python3"
  },
  "language_info": {
   "codemirror_mode": {
    "name": "ipython",
    "version": 3
   },
   "file_extension": ".py",
   "mimetype": "text/x-python",
   "name": "python",
   "nbconvert_exporter": "python",
   "pygments_lexer": "ipython3",
   "version": "3.8.8"
  }
 },
 "nbformat": 4,
 "nbformat_minor": 5
}
