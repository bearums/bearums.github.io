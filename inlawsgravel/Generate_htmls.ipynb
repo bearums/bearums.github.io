{
 "cells": [
  {
   "cell_type": "code",
   "execution_count": 15,
   "id": "e37a2411-950e-4906-9ce0-f3ffd9f356bb",
   "metadata": {},
   "outputs": [],
   "source": [
    "from jinja2 import Template\n",
    "import pandas as pd\n",
    "import urllib.parse\n"
   ]
  },
  {
   "cell_type": "code",
   "execution_count": 26,
   "id": "f2d08034-dae5-4407-ad3f-c70fdc651e67",
   "metadata": {},
   "outputs": [
    {
     "data": {
      "text/html": [
       "<div>\n",
       "<style scoped>\n",
       "    .dataframe tbody tr th:only-of-type {\n",
       "        vertical-align: middle;\n",
       "    }\n",
       "\n",
       "    .dataframe tbody tr th {\n",
       "        vertical-align: top;\n",
       "    }\n",
       "\n",
       "    .dataframe thead th {\n",
       "        text-align: right;\n",
       "    }\n",
       "</style>\n",
       "<table border=\"1\" class=\"dataframe\">\n",
       "  <thead>\n",
       "    <tr style=\"text-align: right;\">\n",
       "      <th></th>\n",
       "      <th>i</th>\n",
       "      <th>name</th>\n",
       "      <th>distance</th>\n",
       "      <th>elevation</th>\n",
       "      <th>url</th>\n",
       "    </tr>\n",
       "  </thead>\n",
       "  <tbody>\n",
       "    <tr>\n",
       "      <th>29</th>\n",
       "      <td>030</td>\n",
       "      <td>InlawsSonntagsgravelKottenforst-Waldville-Bonn...</td>\n",
       "      <td>42</td>\n",
       "      <td>209</td>\n",
       "      <td>https://rdspt.com/inlawsgravel/gpxs/030.gpx</td>\n",
       "    </tr>\n",
       "    <tr>\n",
       "      <th>28</th>\n",
       "      <td>029</td>\n",
       "      <td>InlawsSonntagsgravel:TourDividelol</td>\n",
       "      <td>41</td>\n",
       "      <td>663</td>\n",
       "      <td>https://rdspt.com/inlawsgravel/gpxs/029.gpx</td>\n",
       "    </tr>\n",
       "    <tr>\n",
       "      <th>27</th>\n",
       "      <td>028</td>\n",
       "      <td>InlawsSonntagsgravel16_3_25</td>\n",
       "      <td>30</td>\n",
       "      <td>327</td>\n",
       "      <td>https://rdspt.com/inlawsgravel/gpxs/028.gpx</td>\n",
       "    </tr>\n",
       "    <tr>\n",
       "      <th>26</th>\n",
       "      <td>027</td>\n",
       "      <td>16_03_25InlawsKoffiehell</td>\n",
       "      <td>30</td>\n",
       "      <td>202</td>\n",
       "      <td>https://rdspt.com/inlawsgravel/gpxs/027.gpx</td>\n",
       "    </tr>\n",
       "    <tr>\n",
       "      <th>25</th>\n",
       "      <td>026</td>\n",
       "      <td>InlawsGravel09_03_Sieg,AggerWald,WahnerHeide,R...</td>\n",
       "      <td>44</td>\n",
       "      <td>235</td>\n",
       "      <td>https://rdspt.com/inlawsgravel/gpxs/026.gpx</td>\n",
       "    </tr>\n",
       "  </tbody>\n",
       "</table>\n",
       "</div>"
      ],
      "text/plain": [
       "      i                                               name  distance  \\\n",
       "29  030  InlawsSonntagsgravelKottenforst-Waldville-Bonn...        42   \n",
       "28  029                 InlawsSonntagsgravel:TourDividelol        41   \n",
       "27  028                        InlawsSonntagsgravel16_3_25        30   \n",
       "26  027                           16_03_25InlawsKoffiehell        30   \n",
       "25  026  InlawsGravel09_03_Sieg,AggerWald,WahnerHeide,R...        44   \n",
       "\n",
       "    elevation                                          url  \n",
       "29        209  https://rdspt.com/inlawsgravel/gpxs/030.gpx  \n",
       "28        663  https://rdspt.com/inlawsgravel/gpxs/029.gpx  \n",
       "27        327  https://rdspt.com/inlawsgravel/gpxs/028.gpx  \n",
       "26        202  https://rdspt.com/inlawsgravel/gpxs/027.gpx  \n",
       "25        235  https://rdspt.com/inlawsgravel/gpxs/026.gpx  "
      ]
     },
     "execution_count": 26,
     "metadata": {},
     "output_type": "execute_result"
    }
   ],
   "source": [
    "df = pd.read_csv('gpxs/info.csv', dtype={'i':str})\n",
    "df.sort_index(ascending=False, inplace=True)\n",
    "df.head()\n",
    "\n"
   ]
  },
  {
   "cell_type": "code",
   "execution_count": 27,
   "id": "cee34656-cf5c-4070-a78d-eeb852a8859f",
   "metadata": {},
   "outputs": [],
   "source": [
    "with open('template.html') as f:\n",
    "    template = Template(f.read())\n",
    "with open('index.html', 'w') as f:\n",
    "    f.write(template.render(df_values = df.values ))"
   ]
  },
  {
   "cell_type": "code",
   "execution_count": null,
   "id": "04216850-abe7-4db3-8bd6-14cc97d269eb",
   "metadata": {},
   "outputs": [],
   "source": [
    "\n"
   ]
  },
  {
   "cell_type": "code",
   "execution_count": 28,
   "id": "e3039509-e20b-4cd3-a30a-50d266234b96",
   "metadata": {},
   "outputs": [],
   "source": [
    "def make_gpx_page(url, page_name, desc=''):\n",
    "    url_parsed = urllib.parse.quote_plus(\"\"\"{\"urls\":[\"%s\"]}\"\"\" % (url))\n",
    "                                                               \n",
    "    iframe_url = \"https://gpx.studio/?state=%s&embed&distance\" % url_parsed\n",
    "    a_url =  \"https://gpx.studio/?state=%s\" % url_parsed\n",
    "\n",
    "    template = Template(\"\"\"\n",
    "<!DOCTYPE html>\n",
    "<html lang=\"en\">\n",
    "<body>\n",
    "<div class=\"main\">\n",
    "<main>\n",
    "<center>\n",
    "     <div class=\"text\", style=\"font-size: 32px; text-decoration:underline;margin-bottom: 0.2cm;\">\n",
    "         <a href = \"{{ gpx_url }}\" >{{ desc }}</a> <br />\n",
    "            </div>\n",
    "  <iframe src=\"{{  a_url }}&embed&distance\"\n",
    "            width=\"96%\"\n",
    "            height=\"800\"\n",
    "            frameborder=\"0\"\n",
    "            allowfullscreen\n",
    "            style=\"border:5px solid #ff0000;\">\n",
    "                <p><a href=\"{{  a_url }}\"></a></p>\n",
    "  </iframe>\n",
    "</center>\n",
    "</main>\n",
    "</div>\t\t\n",
    "</body>\n",
    "</html>\n",
    "    \"\"\")\n",
    "\n",
    "    with open(page_name, 'w') as f:\n",
    "        f.write(template.render(a_url = a_url, gpx_url=url, desc=\"DOWNLOAD\"))"
   ]
  },
  {
   "cell_type": "code",
   "execution_count": 29,
   "id": "3bd15b6c-3b63-4a3f-8b84-226748dc74c3",
   "metadata": {},
   "outputs": [],
   "source": [
    "for i, row in df.iterrows():\n",
    "    make_gpx_page(url=row.url, page_name='gpx_studio_pages/%s.html'%row.i, desc=row['name'])"
   ]
  },
  {
   "cell_type": "code",
   "execution_count": null,
   "id": "9bb98bd2-6825-4b48-a17c-55d4fe190532",
   "metadata": {},
   "outputs": [],
   "source": []
  },
  {
   "cell_type": "code",
   "execution_count": null,
   "id": "fb1857e0-5906-421e-b45b-a50e0e7ae4b2",
   "metadata": {},
   "outputs": [],
   "source": []
  }
 ],
 "metadata": {
  "kernelspec": {
   "display_name": "Python 3 (ipykernel)",
   "language": "python",
   "name": "python3"
  },
  "language_info": {
   "codemirror_mode": {
    "name": "ipython",
    "version": 3
   },
   "file_extension": ".py",
   "mimetype": "text/x-python",
   "name": "python",
   "nbconvert_exporter": "python",
   "pygments_lexer": "ipython3",
   "version": "3.11.9"
  }
 },
 "nbformat": 4,
 "nbformat_minor": 5
}
