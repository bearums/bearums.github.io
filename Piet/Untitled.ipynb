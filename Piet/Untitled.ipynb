{
 "cells": [
  {
   "cell_type": "code",
   "execution_count": 5,
   "metadata": {
    "collapsed": true
   },
   "outputs": [],
   "source": [
    "import pygame as pg\n",
    "import numpy as np\n",
    "\n",
    "def main():\n",
    "    screen = pg.display.set_mode((640, 480))\n",
    "    font = pg.font.Font(None, 32)\n",
    "    clock = pg.time.Clock()\n",
    "    color = pg.Color('dodgerblue2')\n",
    "    text = ''\n",
    "\n",
    "    while True:\n",
    "        for event in pg.event.get():\n",
    "            if event.type == pg.QUIT:\n",
    "                return\n",
    "            elif event.type == pg.KEYDOWN:\n",
    "                if event.key == pg.K_RETURN:\n",
    "                    print(text)\n",
    "                    text = ''\n",
    "                elif event.key == pg.K_BACKSPACE:\n",
    "                    text = text[:-1]\n",
    "                else:\n",
    "                    text += event.unicode\n",
    "\n",
    "        screen.fill((30, 30, 30))\n",
    "        txt_surface = font.render(text, True, color)\n",
    "        screen.blit(txt_surface, (50, 100))\n",
    "\n",
    "        pg.display.flip()\n",
    "        clock.tick(30)\n"
   ]
  },
  {
   "cell_type": "code",
   "execution_count": 6,
   "metadata": {
    "collapsed": false
   },
   "outputs": [
    {
     "name": "stdout",
     "output_type": "stream",
     "text": [
      "\n"
     ]
    }
   ],
   "source": [
    "pg.init()\n",
    "main()\n",
    "pg.quit()"
   ]
  },
  {
   "cell_type": "code",
   "execution_count": 7,
   "metadata": {
    "collapsed": false
   },
   "outputs": [],
   "source": [
    "user_input=np.zeros([5,5])"
   ]
  },
  {
   "cell_type": "code",
   "execution_count": 56,
   "metadata": {
    "collapsed": false
   },
   "outputs": [
    {
     "name": "stdout",
     "output_type": "stream",
     "text": [
      "[[0, 0], [0, 0]]\n",
      "[[0, 0], ['hf', 0]]\n"
     ]
    }
   ],
   "source": [
    "w, h = 2, 2;\n",
    "user_input = [[0 for x in range(w)] for y in range(h)]\n",
    "print user_input\n",
    "\n",
    "user_input[1][0]='hf'\n",
    "print user_input"
   ]
  },
  {
   "cell_type": "code",
   "execution_count": 26,
   "metadata": {
    "collapsed": false
   },
   "outputs": [
    {
     "name": "stdout",
     "output_type": "stream",
     "text": [
      "0 0\n",
      "0\n",
      "0 1\n",
      "0\n",
      "0 2\n",
      "0\n",
      "0 3\n",
      "0\n",
      "1 0\n",
      "hf\n",
      "1 1\n",
      "0\n",
      "1 2\n",
      "0\n",
      "1 3\n",
      "0\n",
      "2 0\n",
      "0\n",
      "2 1\n",
      "0\n",
      "2 2\n",
      "0\n",
      "2 3\n",
      "0\n",
      "3 0\n",
      "0\n",
      "3 1\n",
      "0\n",
      "3 2\n",
      "0\n",
      "3 3\n",
      "0\n"
     ]
    }
   ],
   "source": [
    "for n in range(0,w-1):\n",
    "    for m in range(0,h-1):\n",
    "        \n",
    "        print n,m\n",
    "        print user_input[n][m]"
   ]
  },
  {
   "cell_type": "code",
   "execution_count": 55,
   "metadata": {
    "collapsed": false
   },
   "outputs": [],
   "source": [
    "def setup():\n",
    "    pg.init()\n",
    "    \n",
    "    screen = pg.display.set_mode((700, 500))\n",
    "    pg.display.set_caption('Blocky')\n",
    "    pg.mouse.set_visible(1)\n",
    "    \n",
    "    #Create The Backgound\n",
    "    bg_col= (99,99,99) #colour of background see https://developer.mozilla.org/en-US/docs/Web/CSS/CSS_Colors/Color_picker_tool\n",
    "    background = pg.Surface(screen.get_size())\n",
    "    background = background.convert()\n",
    "    background.fill(bg_col)\n",
    "    \n",
    "    #set up machinery for writing to background\n",
    "    global font\n",
    "    font = pg.font.Font(None, 36)\n",
    "    text = font.render('Take Blocky on an adventure with wasd', 1, (10, 10, 10))\n",
    "    textpos = text.get_rect(centerx=background.get_width()/2)\n",
    "    background.blit(text, textpos)\n",
    "    \n",
    "    \n",
    "    \n",
    "        \n",
    "    #create surface for block\n",
    "    global block_size\n",
    "    block_size=50\n",
    "    block_col=(247,243,7)\n",
    "    global x_pos\n",
    "    global y_pos\n",
    "    global x_0, y_0\n",
    "    x_0=10\n",
    "    y_0=100\n",
    "    \n",
    "    global user_input, w, h\n",
    "    w, h = 8, 5;\n",
    "    user_input = [['' for x in range(w)] for y in range(h)]\n",
    "    \n",
    "    blocksurface = pg.Surface((block_size,block_size))   \n",
    "    pg.draw.rect(blocksurface, (block_col), (0,0,block_size,block_size))# rect: (x1, y1, width, height)\n",
    "    \n",
    "    #paint background and block on screen\n",
    "    screen.blit(background, (0,0))     # blit background on screen (overwriting all)\n",
    "    screen.blit(blocksurface, (x_0,y_0))\n",
    "    \n",
    "    #draw grid \n",
    "    for u in range(0,h+1):\n",
    "        pg.draw.lines(background, (0,0,0), True, [(x_0,y_0+u*block_size), (x_0+w*block_size,y_0+u*block_size)], 1)\n",
    "    for u in range(0,w+1):\n",
    "        pg.draw.lines(background, (0,0,0), True, [(x_0+u*block_size,y_0), (x_0+u*block_size,y_0+h*block_size)], 1)\n",
    "        \n",
    "    return screen, background, blocksurface\n",
    "\n",
    "\n",
    "screen, background, blocksurface= setup()\n",
    "screen.blit(background,(0,0))\n",
    "   \n",
    "pg.display.flip()\n"
   ]
  },
  {
   "cell_type": "code",
   "execution_count": 81,
   "metadata": {
    "collapsed": false
   },
   "outputs": [],
   "source": [
    "\n",
    "global STACK\n",
    "STACK=list()\n",
    "\n",
    "def nothing():\n",
    "\tprint 'non'\n",
    "\treturn None\n",
    "\t\n",
    "def push(val):\n",
    "\tSTACK.append(val)\n",
    "\t\n",
    "def pop():\n",
    "\tSTACK.pop()\n",
    "\t\n",
    "def add():\n",
    "    a=STACK[-2]\n",
    "    b=STACK[-1]\n",
    "    [pop() for _ in range(2)]\n",
    "    push(a+b)"
   ]
  },
  {
   "cell_type": "code",
   "execution_count": 82,
   "metadata": {
    "collapsed": false
   },
   "outputs": [],
   "source": [
    "push(3)"
   ]
  },
  {
   "cell_type": "code",
   "execution_count": 83,
   "metadata": {
    "collapsed": true
   },
   "outputs": [],
   "source": [
    "push(10)"
   ]
  },
  {
   "cell_type": "code",
   "execution_count": 84,
   "metadata": {
    "collapsed": false
   },
   "outputs": [
    {
     "name": "stdout",
     "output_type": "stream",
     "text": [
      "[3, 10]\n"
     ]
    }
   ],
   "source": [
    "print STACK"
   ]
  },
  {
   "cell_type": "code",
   "execution_count": 85,
   "metadata": {
    "collapsed": false
   },
   "outputs": [
    {
     "name": "stdout",
     "output_type": "stream",
     "text": [
      "[13]\n"
     ]
    }
   ],
   "source": [
    "add()\n",
    "print STACK"
   ]
  },
  {
   "cell_type": "code",
   "execution_count": null,
   "metadata": {
    "collapsed": true
   },
   "outputs": [],
   "source": []
  }
 ],
 "metadata": {
  "kernelspec": {
   "display_name": "Python 2",
   "language": "python",
   "name": "python2"
  },
  "language_info": {
   "codemirror_mode": {
    "name": "ipython",
    "version": 2
   },
   "file_extension": ".py",
   "mimetype": "text/x-python",
   "name": "python",
   "nbconvert_exporter": "python",
   "pygments_lexer": "ipython2",
   "version": "2.7.14"
  }
 },
 "nbformat": 4,
 "nbformat_minor": 2
}
