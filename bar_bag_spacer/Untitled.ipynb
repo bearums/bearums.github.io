{
 "cells": [
  {
   "cell_type": "code",
   "execution_count": 5,
   "id": "377714ae",
   "metadata": {},
   "outputs": [
    {
     "name": "stdout",
     "output_type": "stream",
     "text": [
      "\n",
      "Enabling jupyter_cadquery replay\n",
      "\n",
      "Versions:\n",
      "- jupyter_cadquery  3.5.2\n",
      "- cad_viewer_widget 1.4.1\n",
      "- open cascade      (cannot retrieve Open CASCADE version)\n",
      "\n",
      "Plugins loaded:\n",
      "- cadquery-massembly\n"
     ]
    }
   ],
   "source": [
    "\n",
    "\n",
    "\n",
    "\n",
    "import cadquery as cq\n",
    "\n",
    "from jupyter_cadquery import (\n",
    "    versions,\n",
    "    show, PartGroup, Part, \n",
    "    get_viewer, close_viewer, get_viewers, close_viewers, open_viewer, set_defaults, get_defaults, open_viewer,\n",
    "    get_pick,\n",
    ")\n",
    "\n",
    "from jupyter_cadquery.replay import replay, enable_replay, disable_replay\n",
    "''\n",
    "enable_replay(False)\n",
    "\n",
    "set_defaults(\n",
    "    cad_width=640, \n",
    "    height=480, \n",
    ")\n",
    "\n",
    "versions()\n",
    "\n"
   ]
  },
  {
   "cell_type": "code",
   "execution_count": 6,
   "id": "2c6f0e95",
   "metadata": {},
   "outputs": [
    {
     "data": {
      "application/vnd.jupyter.widget-view+json": {
       "model_id": "197ccafa2bdf49d6854eb378527bc87f",
       "version_major": 2,
       "version_minor": 0
      },
      "text/plain": [
       "CadViewerWidget(anchor=None, cad_width=640, glass=False, height=480, pinning=False, theme='light', title=None,…"
      ]
     },
     "metadata": {},
     "output_type": "display_data"
    },
    {
     "data": {
      "text/html": [
       "<div></div>"
      ],
      "text/plain": [
       "<IPython.core.display.HTML object>"
      ]
     },
     "metadata": {},
     "output_type": "display_data"
    }
   ],
   "source": [
    "\n",
    "\n",
    "# These can be modified rather than hardcoding values for each dimension.\n",
    "length = 80.0  # Length of the block\n",
    "height = 60.0  # Height of the block\n",
    "thickness = 10.0  # Thickness of the block\n",
    "\n",
    "# Create a 3D block based on the dimension variables above.\n",
    "# 1.  Establishes a workplane that an object can be built on.\n",
    "# 1a. Uses the X and Y origins to define the workplane, meaning that the\n",
    "# positive Z direction is \"up\", and the negative Z direction is \"down\".\n",
    "result = cq.Workplane(\"XY\").box(length, height, thickness)\n",
    "\n",
    "# The following method is now outdated, but can still be used to display the\n",
    "# results of the script if you want\n",
    "# from Helpers import show\n",
    "# show(result)  # Render the result of this script\n",
    "\n",
    "result\n"
   ]
  },
  {
   "cell_type": "code",
   "execution_count": 15,
   "id": "7beff4d7",
   "metadata": {},
   "outputs": [
    {
     "name": "stdout",
     "output_type": "stream",
     "text": [
      "\r",
      "  0% ⋮                                                            ⋮ (0/2)  0.00s\r",
      " 50% ⋮——————————————————————————————                              ⋮ (1/2)  0.00s\r",
      "100% ⋮————————————————————————————————————————————————————————————⋮ (2/2)  0.00s\r",
      "100% ⋮————————————————————————————————————————————————————————————⋮ (2/2)  0.00s\n"
     ]
    },
    {
     "data": {
      "application/vnd.jupyter.widget-view+json": {
       "model_id": "789c6737ea4d406790989856fc451383",
       "version_major": 2,
       "version_minor": 0
      },
      "text/plain": [
       "CadViewerWidget(anchor=None, cad_width=640, glass=False, height=480, pinning=False, theme='light', title=None,…"
      ]
     },
     "metadata": {},
     "output_type": "display_data"
    },
    {
     "data": {
      "text/html": [
       "<div></div>"
      ],
      "text/plain": [
       "<IPython.core.display.HTML object>"
      ]
     },
     "metadata": {},
     "output_type": "display_data"
    }
   ],
   "source": [
    "ob = (cq.Workplane(\"XY\")\n",
    "      .rect(10,20)\n",
    "      .\n",
    "     )\n",
    "\n",
    "ob"
   ]
  }
 ],
 "metadata": {
  "kernelspec": {
   "display_name": "Python 3 (ipykernel)",
   "language": "python",
   "name": "python3"
  },
  "language_info": {
   "codemirror_mode": {
    "name": "ipython",
    "version": 3
   },
   "file_extension": ".py",
   "mimetype": "text/x-python",
   "name": "python",
   "nbconvert_exporter": "python",
   "pygments_lexer": "ipython3",
   "version": "3.10.13"
  }
 },
 "nbformat": 4,
 "nbformat_minor": 5
}
