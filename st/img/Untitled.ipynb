{
 "cells": [
  {
   "cell_type": "code",
   "execution_count": 6,
   "id": "66ce4504",
   "metadata": {},
   "outputs": [],
   "source": []
  },
  {
   "cell_type": "code",
   "execution_count": 8,
   "id": "b347eac5",
   "metadata": {},
   "outputs": [],
   "source": [
    "import glob\n",
    "import os\n",
    "input_files = sorted(glob.glob('**photo**'))\n",
    "for i in range(0, len(input_files)):\n",
    "    print(i, input_files[i])\n",
    "    os.rename(input_files[i], \"_%s.jpg\"%i)"
   ]
  },
  {
   "cell_type": "code",
   "execution_count": 9,
   "id": "ba61d274",
   "metadata": {},
   "outputs": [
    {
     "name": "stdout",
     "output_type": "stream",
     "text": [
      "0 photo_2024-07-03_08-34-05.jpg\n",
      "1 photo_2024-07-03_08-34-06.jpg\n",
      "2 photo_2024-07-03_08-34-13 (2).jpg\n",
      "3 photo_2024-07-03_08-34-13.jpg\n",
      "4 photo_2024-07-03_08-34-14 (2).jpg\n",
      "5 photo_2024-07-03_08-34-14 (3).jpg\n",
      "6 photo_2024-07-03_08-34-14.jpg\n",
      "7 photo_2024-07-03_08-34-15 (2).jpg\n",
      "8 photo_2024-07-03_08-34-15.jpg\n",
      "9 photo_2024-07-03_08-34-16 (2).jpg\n",
      "10 photo_2024-07-03_08-34-16.jpg\n",
      "11 photo_2024-07-03_08-34-17.jpg\n",
      "12 photo_2024-07-03_08-34-18 (2).jpg\n",
      "13 photo_2024-07-03_08-34-18.jpg\n"
     ]
    }
   ],
   "source": []
  },
  {
   "cell_type": "code",
   "execution_count": null,
   "id": "fc0e7d5a",
   "metadata": {},
   "outputs": [],
   "source": []
  }
 ],
 "metadata": {
  "kernelspec": {
   "display_name": "Python 3",
   "language": "python",
   "name": "python3"
  },
  "language_info": {
   "codemirror_mode": {
    "name": "ipython",
    "version": 3
   },
   "file_extension": ".py",
   "mimetype": "text/x-python",
   "name": "python",
   "nbconvert_exporter": "python",
   "pygments_lexer": "ipython3",
   "version": "3.8.8"
  }
 },
 "nbformat": 4,
 "nbformat_minor": 5
}
