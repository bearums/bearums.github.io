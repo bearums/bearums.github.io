{
 "cells": [
  {
   "cell_type": "code",
   "execution_count": 5,
   "id": "73b73a30",
   "metadata": {},
   "outputs": [],
   "source": [
    "from PIL import Image\n",
    "from PIL import ImageDraw\n",
    "from PIL import ImageFont\n",
    "from pathlib import Path\n",
    "import os\n",
    "\n",
    "\n",
    "fonts = [\"Ubahn.ttf\",\n",
    "\t\t\t\t\t\t\t \"Steven.ttf\",\n",
    "\t\t\t\t\t\t\t\"VT323-Regular.ttf\",\n",
    "\t\t\t\t\t\t\t\"Levitate.ttf\",\n",
    "\t\t\t\t\t\t\"routed-gothic.ttf\",\n",
    "\t\t\t\t\t\"PixelSplitter-Bold.ttf\",\n",
    "\t\t\t\t\t\"BauhausStd-Medium.ttf\"];   \n",
    "\n",
    "\n",
    "def make_logo(font):\n",
    "    text = \"RDSPT\"\n",
    "    target_width = 105\n",
    "    target_height = 23\n",
    "    initial_fontsize=100\n",
    "\n",
    "    # make writing to determine correct fontsize\n",
    "    myFont = ImageFont.truetype(font, initial_fontsize)\n",
    "    (left, top, right, bottom)= myFont.getbbox(text)\n",
    "\n",
    "    width_= right-left\n",
    "    height= bottom-top\n",
    "    \n",
    "    #fontsize = int(initial_fontsize* target_width/width_)\n",
    "    fontsize = int(initial_fontsize* target_height/height )\n",
    "\n",
    "    myFont = ImageFont.truetype(font, fontsize)\n",
    "    \n",
    "    img = Image.open('bare3.png')\n",
    " \n",
    "    I1 = ImageDraw.Draw(img)\n",
    "\n",
    "    I1.text((64, 64), text, font=myFont, anchor=\"ms\" ,fill ='black')\n",
    "    \n",
    "    return img\n",
    " "
   ]
  },
  {
   "cell_type": "code",
   "execution_count": 9,
   "id": "6f80f2e1",
   "metadata": {},
   "outputs": [],
   "source": [
    "for f in fonts:\n",
    "    font = \"/home/ben/rdspt/static/fonts/weekday_fonts/%s\"%(f)\n",
    "    \n",
    "    try:\n",
    "        i = make_logo(font)\n",
    "\n",
    "        i.show()\n",
    "        output_file = \"/home/ben/rdspt/static/img/logos/new/%s.png\"%Path(f).stem\n",
    "        if ~os.path.isfile(output_file) :\n",
    "            i.save(output_file)\n",
    "    except Exception as e:\n",
    "        print(font)\n",
    "        print(str(e))\n",
    "        pass"
   ]
  },
  {
   "cell_type": "code",
   "execution_count": 7,
   "id": "e3785bea",
   "metadata": {},
   "outputs": [
    {
     "data": {
      "text/plain": [
       "False"
      ]
     },
     "execution_count": 7,
     "metadata": {},
     "output_type": "execute_result"
    }
   ],
   "source": [
    "os.path.isfile(output_file)"
   ]
  },
  {
   "cell_type": "code",
   "execution_count": 8,
   "id": "870194de",
   "metadata": {},
   "outputs": [
    {
     "data": {
      "text/plain": [
       "'/home/ben/rdspt/static/img/logos/new/BauhausStd-Medium.png'"
      ]
     },
     "execution_count": 8,
     "metadata": {},
     "output_type": "execute_result"
    }
   ],
   "source": [
    "output_file"
   ]
  },
  {
   "cell_type": "code",
   "execution_count": null,
   "id": "3aadede9",
   "metadata": {},
   "outputs": [],
   "source": []
  }
 ],
 "metadata": {
  "kernelspec": {
   "display_name": "Python 3",
   "language": "python",
   "name": "python3"
  },
  "language_info": {
   "codemirror_mode": {
    "name": "ipython",
    "version": 3
   },
   "file_extension": ".py",
   "mimetype": "text/x-python",
   "name": "python",
   "nbconvert_exporter": "python",
   "pygments_lexer": "ipython3",
   "version": "3.8.8"
  }
 },
 "nbformat": 4,
 "nbformat_minor": 5
}
