{
 "cells": [
  {
   "cell_type": "code",
   "execution_count": 96,
   "id": "82940186",
   "metadata": {},
   "outputs": [],
   "source": [
    "from PIL import Image\n",
    "from PIL import ImageDraw\n",
    "from PIL import ImageFont\n",
    "from pathlib import Path\n",
    "\n",
    "text = \"RDSPT\"\n",
    "target_width = 100\n",
    "initial_fontsize=100\n",
    "font = '/home/ben/rdspt/static/fonts/changing/BauhausStd-Medium.ttf'\n",
    "\n",
    "fonts = [\"Ubahn.ttf\",\n",
    "\t\t\t\t\t\t\t \"Steven.ttf\",\n",
    "\t\t\t\t\t\t\t\"VT323-Regular.ttf\",\n",
    "\t\t\t\t\t\t\t\"Soloviev.otf\",\n",
    "\t\t\t\t\t\t\"routed-gothic.ttf\",\n",
    "\t\t\t\t\t\"PixelSplitter-Bold.ttf\",\n",
    "\t\t\t\t\t\"BauhausStd-Medium.ttf\"];   \n",
    "\n",
    "\n",
    "def make_logo(font):\n",
    "    myFont = ImageFont.truetype(font, initial_fontsize)\n",
    "    (left, top, right, bottom)= myFont.getbbox(text)\n",
    "\n",
    "    width_= right-left\n",
    "    height_= bottom-top\n",
    "    \n",
    "    fontsize = int(initial_fontsize* target_width/width_)\n",
    "    myFont = ImageFont.truetype(font, fontsize)\n",
    "    \n",
    "    img = Image.open('bare2.png')\n",
    " \n",
    "    I1 = ImageDraw.Draw(img)\n",
    "\n",
    "    I1.text((65, 58), text, font=myFont, anchor=\"ms\" ,fill ='black')\n",
    "    \n",
    "    return img\n",
    " "
   ]
  },
  {
   "cell_type": "code",
   "execution_count": 97,
   "id": "982824fe",
   "metadata": {},
   "outputs": [],
   "source": [
    "for f in fonts:\n",
    "    font = \"/home/ben/rdspt/static/fonts/weekday_fonts/%s\"%(f)\n",
    "    \n",
    "    try:\n",
    "        i = make_logo(font)\n",
    "\n",
    "        i.show()\n",
    "        i.save(\"/home/ben/rdspt/static/img/logos/%s.png\"%Path(f).stem)\n",
    "    except Exception as e:\n",
    "        print(font)\n",
    "        print(str(e))\n",
    "        pass"
   ]
  },
  {
   "cell_type": "code",
   "execution_count": 90,
   "id": "1fa51df7",
   "metadata": {},
   "outputs": [],
   "source": [
    "i = make_logo('/home/ben/rdspt/static/fonts/changing/Ubahn.ttf')\n",
    "i.show()\n"
   ]
  },
  {
   "cell_type": "code",
   "execution_count": 78,
   "id": "beee7aab",
   "metadata": {},
   "outputs": [],
   "source": [
    "\n",
    "i= make_logo('/home/ben/rdspt/static/fonts/changing/Fatsans.ttf')\n",
    "i.show()"
   ]
  },
  {
   "cell_type": "code",
   "execution_count": 77,
   "id": "6831266f",
   "metadata": {},
   "outputs": [
    {
     "data": {
      "text/plain": [
       "['/home/ben/rdspt/static/img/logos/routed-gothic.png',\n",
       " '/home/ben/rdspt/static/img/logos/Soloviev.png',\n",
       " '/home/ben/rdspt/static/img/logos/VT323-Regular.png',\n",
       " '/home/ben/rdspt/static/img/logos/PixelSplitter-Bold.png',\n",
       " '/home/ben/rdspt/static/img/logos/Ubahn.png',\n",
       " '/home/ben/rdspt/static/img/logos/Steven.png',\n",
       " '/home/ben/rdspt/static/img/logos/BauhausStd-Medium.png']"
      ]
     },
     "execution_count": 77,
     "metadata": {},
     "output_type": "execute_result"
    }
   ],
   "source": [
    "import glob\n",
    "glob.glob('/home/ben/rdspt/static/img/logos/*.png')"
   ]
  },
  {
   "cell_type": "code",
   "execution_count": null,
   "id": "346510bd",
   "metadata": {},
   "outputs": [],
   "source": []
  }
 ],
 "metadata": {
  "kernelspec": {
   "display_name": "Python 3",
   "language": "python",
   "name": "python3"
  },
  "language_info": {
   "codemirror_mode": {
    "name": "ipython",
    "version": 3
   },
   "file_extension": ".py",
   "mimetype": "text/x-python",
   "name": "python",
   "nbconvert_exporter": "python",
   "pygments_lexer": "ipython3",
   "version": "3.8.8"
  }
 },
 "nbformat": 4,
 "nbformat_minor": 5
}
