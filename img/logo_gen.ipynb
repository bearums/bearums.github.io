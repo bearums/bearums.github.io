{
 "cells": [
  {
   "cell_type": "code",
   "execution_count": null,
   "id": "b4591d78",
   "metadata": {},
   "outputs": [],
   "source": [
    "# Importing Image and ImageFont, ImageDraw module from PIL package  \n",
    "from PIL import Image, ImageFont, ImageDraw  \n",
    "import pillow_svg.SvgImagePlugin\n",
    "# creating a image object  \n",
    "import requests\n",
    "from io import BytesIO\n",
    "url = 'https://rdspt.com/img/svgs/logo_plain.svg'\n",
    "response = requests.get(url)\n",
    "image = Image.open(BytesIO(response.content))\n",
    "draw = ImageDraw.Draw(image)  \n",
    "  \n",
    "# specified font size \n",
    "font = ImageFont.truetype(r'https://rdspt.com/fonts/changing/BauhausStd-Medium.ttf', 20)  \n",
    "  \n",
    "text = 'LAUGHING IS THE \\n BEST MEDICINE'\n",
    "  \n",
    "# drawing text size \n",
    "draw.text((5, 5), text, font = font, align =\"left\")  \n",
    "  \n",
    "image.show()  "
   ]
  },
  {
   "cell_type": "code",
   "execution_count": null,
   "id": "c0edb676",
   "metadata": {},
   "outputs": [],
   "source": [
    "import pillow_svg.SvgImagePlugin\n",
    "im = Image.open(requests.get(url, stream=True).raw)"
   ]
  },
  {
   "cell_type": "code",
   "execution_count": null,
   "id": "9f1f8c62",
   "metadata": {},
   "outputs": [],
   "source": [
    "import urllib.request \n",
    "urllib.request.urlretrieve( \n",
    "  url, \n",
    "   \"gfg.svg\") \n",
    "  \n",
    "img = Image.open(\"gfg.svg\") \n",
    "img.show()"
   ]
  },
  {
   "cell_type": "code",
   "execution_count": 21,
   "id": "3fae69c8",
   "metadata": {},
   "outputs": [],
   "source": [
    "# Importing Image and ImageFont, ImageDraw module from PIL package  \n",
    "from PIL import Image, ImageFont, ImageDraw  \n",
    "import pillow_svg.SvgImagePlugin\n",
    "# creating a image object  \n",
    "image = Image.open(r'/home/ben/rdspt/static/img/pngs/logo_plain.png')  \n",
    "  \n",
    "draw = ImageDraw.Draw(image)  \n",
    "  \n",
    "# specified font size \n",
    "font = ImageFont.truetype(r'/home/ben/rdspt/static/fonts/changing/BauhausStd-Medium.ttf', 60)  \n",
    "font = ImageFont.truetype(r'/home/ben/rdspt/static/fonts/changing/Fatsans.ttf', 42)  \n",
    "\n",
    "text = 'RDSPT'\n",
    "  \n",
    "# drawing text size \n",
    "draw.text((15, 60), text, font = font, align =\"left\")  \n",
    "  \n",
    "image.show()  "
   ]
  }
 ],
 "metadata": {
  "kernelspec": {
   "display_name": "Python 3",
   "language": "python",
   "name": "python3"
  },
  "language_info": {
   "codemirror_mode": {
    "name": "ipython",
    "version": 3
   },
   "file_extension": ".py",
   "mimetype": "text/x-python",
   "name": "python",
   "nbconvert_exporter": "python",
   "pygments_lexer": "ipython3",
   "version": "3.8.8"
  }
 },
 "nbformat": 4,
 "nbformat_minor": 5
}
